{
 "cells": [
  {
   "cell_type": "markdown",
   "metadata": {},
   "source": [
    "# Sorting a List without using functions"
   ]
  },
  {
   "cell_type": "code",
   "execution_count": 1,
   "metadata": {},
   "outputs": [
    {
     "name": "stdout",
     "output_type": "stream",
     "text": [
      "Enter list elements for sorting: 4 1 3 2\n",
      "Sorted list: [1, 2, 3, 4]\n"
     ]
    }
   ],
   "source": [
    "# taking the input\n",
    "l = (input('Enter list elements for sorting: ').strip().split())\n",
    "\n",
    "# creating a list for converting all elements into 'int' datatype as the input is in 'string' format\n",
    "L = []\n",
    "for i in l:\n",
    "    L.append(int(i))\n",
    "\n",
    "# preparing a list to store the sorted elements\n",
    "L_sorted = []    \n",
    "\n",
    "# here I'm not using functions, so to sort in ascending order, I'll add the next smallest element one by one and \n",
    "# will remove it from the older list as I doesn't want a number to get repeated\n",
    "while L:\n",
    "    L_sorted.append(min(L))\n",
    "    L.remove(min(L))\n",
    "    \n",
    "# finally printing out the sorted list\n",
    "print('Sorted list:',L_sorted)"
   ]
  }
 ],
 "metadata": {
  "kernelspec": {
   "display_name": "Python 3",
   "language": "python",
   "name": "python3"
  },
  "language_info": {
   "codemirror_mode": {
    "name": "ipython",
    "version": 3
   },
   "file_extension": ".py",
   "mimetype": "text/x-python",
   "name": "python",
   "nbconvert_exporter": "python",
   "pygments_lexer": "ipython3",
   "version": "3.8.5"
  }
 },
 "nbformat": 4,
 "nbformat_minor": 4
}
